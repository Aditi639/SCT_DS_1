{
 "cells": [
  {
   "cell_type": "code",
   "execution_count": 2,
   "id": "a99d91a9-22f8-4166-9526-fb1a50adb7b3",
   "metadata": {},
   "outputs": [],
   "source": [
    "import matplotlib.pyplot as plt"
   ]
  },
  {
   "cell_type": "code",
   "execution_count": 4,
   "id": "3a554380-f404-4bc4-aa00-4b681fd71550",
   "metadata": {},
   "outputs": [],
   "source": [
    "age_groups = ['9–14', '16–24', '25–34', '35–45', '46–63', '64–74', '75-85', '85-100']\n",
    "kids_groups = ['0-8']\n",
    "male_population = [75, 110, 110, 108, 115, 73, 23, 15]  # Males population (in millions)\n",
    "female_population = [70, 107, 107, 109, 112, 72, 21, 14]  # Females population (in millions)\n",
    "kids_population = [217.6]   #kids population (in millions)"
   ]
  },
  {
   "cell_type": "code",
   "execution_count": 6,
   "id": "1cc7d012-d060-4e50-b01c-eb13cc4ca626",
   "metadata": {},
   "outputs": [
    {
     "data": {
      "image/png": "[encoded data removed]",
      "text/plain": [
       "<Figure size 1000x800 with 1 Axes>"
      ]
     },
     "metadata": {},
     "output_type": "display_data"
    }
   ],
   "source": [
    "fig, ax = plt.subplots(figsize=(10, 8))\n",
    "k_bar = ax.bar(kids_groups, kids_population, width=0.5, label=\"Kids\", align='edge', color='yellow')\n",
    "M_bar = ax.bar(age_groups, male_population, width=0.5, label=\"Males\", align='center', color='blue')\n",
    "F_bar = ax.bar(age_groups, female_population, width = 0.5, label = \"Females\", align = 'edge', color = 'pink')"
   ]
  },
  {
   "cell_type": "code",
   "execution_count": 8,
   "id": "18c61a6b-d819-49c1-a2e3-d1d33fcc2dd0",
   "metadata": {},
   "outputs": [
    {
     "data": {
      "text/plain": [
       "Text(0.5, 4.444444444444452, 'Age Groups')"
      ]
     },
     "execution_count": 8,
     "metadata": {},
     "output_type": "execute_result"
    }
   ],
   "source": [
    "ax.set_xlabel('Age Groups')"
   ]
  },
  {
   "cell_type": "code",
   "execution_count": 10,
   "id": "9ce73138-035c-4683-92e1-cf7ca2cd91b9",
   "metadata": {},
   "outputs": [
    {
     "data": {
      "text/plain": [
       "Text(4.444444444444452, 0.5, 'Population (in millions)')"
      ]
     },
     "execution_count": 10,
     "metadata": {},
     "output_type": "execute_result"
    }
   ],
   "source": [
    "ax.set_ylabel('Population (in millions)')"
   ]
  },
  {
   "cell_type": "code",
   "execution_count": 12,
   "id": "d4ba00f2-814e-4363-9bdd-fa52f099136d",
   "metadata": {},
   "outputs": [
    {
     "data": {
      "text/plain": [
       "Text(0.5, 1.0, 'Population Distribution by Age Group and Gender (India, 2024)')"
      ]
     },
     "execution_count": 12,
     "metadata": {},
     "output_type": "execute_result"
    }
   ],
   "source": [
    "ax.set_title('Population Distribution by Age Group and Gender (India, 2024)')"
   ]
  },
  {
   "cell_type": "code",
   "execution_count": 14,
   "id": "35b9cd82-6390-48d9-b944-20ce3d15634f",
   "metadata": {},
   "outputs": [
    {
     "data": {
      "text/plain": [
       "<matplotlib.legend.Legend at 0x221fed07a10>"
      ]
     },
     "execution_count": 14,
     "metadata": {},
     "output_type": "execute_result"
    }
   ],
   "source": [
    "ax.legend()"
   ]
  },
  {
   "cell_type": "code",
   "execution_count": 16,
   "id": "ff9bef7d-cb95-42b6-ac3a-587b8d7951e1",
   "metadata": {},
   "outputs": [
    {
     "data": {
      "text/plain": [
       "<Figure size 640x480 with 0 Axes>"
      ]
     },
     "metadata": {},
     "output_type": "display_data"
    }
   ],
   "source": [
    "plt.tight_layout()\n",
    "plt.show()"
   ]
  },
  {
   "cell_type": "code",
   "execution_count": null,
   "id": "af852a2d-8aad-4ed2-b4de-9ad42ab988c5",
   "metadata": {},
   "outputs": [],
   "source": []
  }
 ],
 "metadata": {
  "kernelspec": {
   "display_name": "Python [conda env:base] *",
   "language": "python",
   "name": "conda-base-py"
  },
  "language_info": {
   "codemirror_mode": {
    "name": "ipython",
    "version": 3
   },
   "file_extension": ".py",
   "mimetype": "text/x-python",
   "name": "python",
   "nbconvert_exporter": "python",
   "pygments_lexer": "ipython3",
   "version": "3.12.7"
  }
 },
 "nbformat": 4,
 "nbformat_minor": 5
}
